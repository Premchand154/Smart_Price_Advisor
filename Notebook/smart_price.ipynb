{
 "cells": [
  {
   "cell_type": "code",
   "execution_count": 1,
   "id": "95029449",
   "metadata": {},
   "outputs": [],
   "source": [
    "import pandas as pd\n",
    "import numpy as np\n",
    "import matplotlib.pyplot as plt\n",
    "import seaborn as sns"
   ]
  },
  {
   "cell_type": "code",
   "execution_count": 3,
   "id": "397dfc98",
   "metadata": {},
   "outputs": [
    {
     "name": "stdout",
     "output_type": "stream",
     "text": [
      "<class 'pandas.core.frame.DataFrame'>\n",
      "RangeIndex: 300 entries, 0 to 299\n",
      "Data columns (total 12 columns):\n",
      " #   Column              Non-Null Count  Dtype  \n",
      "---  ------              --------------  -----  \n",
      " 0   Product             300 non-null    object \n",
      " 1   Brand               300 non-null    object \n",
      " 2   Model               300 non-null    object \n",
      " 3   Age                 300 non-null    float64\n",
      " 4   Condition           300 non-null    object \n",
      " 5   Seller_Urgency      300 non-null    int64  \n",
      " 6   Region              300 non-null    object \n",
      " 7   Original_Price      300 non-null    int64  \n",
      " 8   Listings_in_Region  300 non-null    int64  \n",
      " 9   Local_Demand_Score  300 non-null    float64\n",
      " 10  Fair_Price          300 non-null    int64  \n",
      " 11  Negotiable          300 non-null    object \n",
      "dtypes: float64(2), int64(4), object(6)\n",
      "memory usage: 28.3+ KB\n"
     ]
    }
   ],
   "source": [
    "df=pd.read_csv(r'D:\\demo\\smart_price\\synthetic_slpna_dataset.csv')\n",
    "df.head()\n",
    "df.info()"
   ]
  },
  {
   "cell_type": "code",
   "execution_count": 4,
   "id": "3b74c271",
   "metadata": {},
   "outputs": [
    {
     "name": "stdout",
     "output_type": "stream",
     "text": [
      "Product ['Laptop' 'Mobile' 'Bike' 'Furniture']\n",
      "Brand ['Dell' 'Samsung' 'Apple' 'HP' 'Honda' 'OnePlus' 'Pepperfry' 'IKEA'\n",
      " 'Yamaha' 'Bajaj' 'UrbanLadder']\n",
      "Model ['Inspiron' 'Galaxy S10' 'iPhone XR' 'Pavilion' 'CB Shine' '7T' 'Sofa'\n",
      " 'Chair' 'FZ' 'Pulsar' 'Table' 'MacBook Air']\n",
      "Age [3.3 1.2 0.7 0.5 0.6 7.8 5.6 7.7 2.2 6.7 5.5 4.8 7.5 2.  6.1 5.1 6.3 7.4\n",
      " 1.  7.2 5.9 3.8 4.7 3.6 2.7 5.3 7.3 2.5 5.8 4.2 4.6 2.3 4.5 6.9 4.3 7.6\n",
      " 6.  2.4 1.8 6.5 0.8 7.1 3.7 2.8 2.9 6.6 1.1 3.9 1.7 2.6 3.1 0.9 2.1 5.4\n",
      " 6.4 7.  6.2 5.2 4.9 3.4 4.4 3.  1.5 1.9 1.4 4.1 6.8 3.2 7.9 1.6 5.  8.\n",
      " 3.5 4.  5.7 1.3]\n",
      "Condition ['Fair' 'Very Good' 'Good' 'Poor' 'Like New']\n",
      "Seller_Urgency [5 3 2 4 1]\n",
      "Region ['Chennai' 'Delhi' 'Mumbai' 'Hyderabad' 'Bangalore']\n",
      "Original_Price [79820 47131 62735 86104 28658 70435 83038 46001 26483 83077 69557 48758\n",
      " 35606 92789 89807 41044 65592 42504  6561 33535 99354 11110  3206 53015\n",
      " 21141 36827 46585 98259 21047 69842 97856 96557 54005 70172  3854 90092\n",
      " 55662 55083 96384 59250 14411 14111 50254 99601 32855  7499 15874  5557\n",
      " 80505 41467 89416 77290 42790 59835 21589 66208 69235 88314 54885 59958\n",
      " 81069 53993 73316 90922 96848 73313 83135 61335 97476 31251 77740 49175\n",
      " 56222 70215 57340 46919 65752 71385 44975 97704 75369 96610 85986 95658\n",
      " 18305 85745 63692 86042 47811 17397 42954 72896 57098 14130  4062 12348\n",
      " 75267 47261 96105 57693 94792 22870 28289  7748 28470 64629 39395 23559\n",
      " 33354 41413 22087 26959 64529  7835 58284 37349 53990 59570 11415 75474\n",
      "  3404 83642 56330 48106 48543 61017 27285 42764  9949 64886 73173 58479\n",
      " 95705 15015 14637 86807 14314 39668 19907 84818 22262 82714 31699  7621\n",
      " 41638 38854 53448  6596 29734 26275 57553 31024 80149 16046 12111 90886\n",
      " 56441  9469 48587  4917 23128  5219  4342 96789 45929 87555  8951 91861\n",
      "  3077 87056 76340 22096 39455 99646  8408 69656 22029 49197 74895  6756\n",
      " 74315 79077 20368 42915  3126 89066 16718 22256 14694 16224 76509 39368\n",
      " 70526 97270 30696 55853 23806 27442 89444 36536 41000 55487 78629 29399\n",
      " 33678 42986 37911 15175  9150 23079 45880 97914 81757 20771 93093 30856\n",
      " 63774 58961 59133 34653 81411 84182 50924 92563 24172 92599 31769 62129\n",
      " 18850 50304 57912 16350 78186 72626  4341 14344 58761 30935 59276 27070\n",
      " 97934 40265 38435 23662 47547 97223 55393 98505 48084 61606 15676 58619\n",
      " 32757 57842 67754 85856 49600 10657 31831 62720 26874 28931 61762  6972\n",
      " 44755  5396 95108 99826 89206 52708 80236 51845 63461 15987 50517 94357\n",
      " 10491 76609 70889 93874 47064 32241 17288 78932  6093 96623 31602  8626\n",
      "  4980 29385 42341 88553  8655 31541  8109 63112 86309 67288]\n",
      "Listings_in_Region [43 44 48 16 46  7 22 13 11 21 10 19 30 12 18 41 17 32 36 15 38 40  5 35\n",
      "  6 28 29 39 37 33 31 24 27 26 34  9 49 20 25 23 45 42 47  8 14]\n",
      "Local_Demand_Score [ 5.   7.4  9.4  6.5  1.4  8.7  9.5  1.1  3.3  2.9  8.   1.8  8.6  9.7\n",
      "  2.5  3.6  7.6  6.9  4.   6.7  2.   5.3  3.2  1.7  8.3  2.7  4.2  7.2\n",
      "  5.7  3.4  4.1  4.3  7.3  1.9  7.1  8.9 10.   3.5  4.6  8.1  7.   5.4\n",
      "  5.9  2.8  7.9  6.   3.7  6.8  1.2  6.3  3.9  2.6  2.1  6.6  7.7  8.4\n",
      "  9.6  7.8  9.   4.8  6.2  9.9  6.1  8.8  5.1  6.4  1.6  2.2  5.6  5.8\n",
      "  4.4  9.1  9.8  1.   2.3  9.2  8.2  2.4  9.3  5.2  1.3  3.8  4.7  7.5\n",
      "  5.5  3.1  3.   1.5]\n",
      "Fair_Price [53878 40391 56273 81153 24273 14334 32177  7153 20458 23802 26745 26329\n",
      "  7798 68942 37584 19804 56278 39019  2523  6036 90760  2478  1154 31093\n",
      " 10697 21673 34077 43578  5072 14911 89636 69376 18173 34875  1000 37388\n",
      " 29028 43158 46891 16323  7487  2759 18318 76693  7475  2872  4453  2362\n",
      " 72817 29317 70594 45099 11297 23306 19376 19664 42822 57404 10126 23294\n",
      " 50911 16873 60412 35096 47601 66605 48094 37997 43815  9250 11117 38578\n",
      " 42307 42866 39765 19683 21961 63925  8365 43136 17636 56324 23001 69830\n",
      "  8429 64909 53055 30244 18575 12387 28156 20265 24267  9453  1247  2284\n",
      " 48886 23347 68907 51981 29338  8691 13862  4885 11630 28695 29487 22369\n",
      " 27967 31288  9431 19410 51688  3968 28093 28833 13174 10872  6524 45888\n",
      "  2914 47634  9914 35238 33349 42620  7667 40476  7795 31827 41270 13275\n",
      " 73406  9737 12061 64064  3464 24554 16025 66073 12188 23077  6625  2789\n",
      " 12658 25566 38429  3143 18108 11351 38906 17544 60032  4469  7818 46261\n",
      " 30986  5582 26237  2542 15496  4120  1064 81980 15478 12083  3236 29625\n",
      "  1003 58458 45002 12495 26553 83304  7105 20897 18493 10774 51752  5442\n",
      " 37752 49186  8880 13153  1186 51614  4514  4763  8500 11730 39479 21121\n",
      " 12448 71348 29744 32339  2833 16753 47048 17793 22140 40977 26223 27179\n",
      " 29620 13756 14691  4515  7036 17563 26175 67218 27102  5193 47571 18776\n",
      " 21779 17246 42517  9356 31750 68861 39262 28926  9173 81256 22778 20472\n",
      " 15410 22461 36282  7227 24629 65218  2711  5989 23739 11183  9840 24728\n",
      " 80942 11033 15701  8471 30668 32327 40215 31226 41665 34438 10589 47218\n",
      " 78570 30384 28482 22992 30523 73149 13987  5744 12255 44594 21674 25503\n",
      " 28627  4455 11614  4859 39755 53906 70384 42799 67077 46557 62128  7066\n",
      " 41399 18824  2334 21259 60894 19854 31133  9834 12888 65119  5286 22996\n",
      "  8627  6034  1676 13106 23034 30374  7300 16275  3819 45819 34308 27319]\n",
      "Negotiable ['Yes' 'No']\n"
     ]
    }
   ],
   "source": [
    "df.isnull().sum()\n",
    "for col in df.columns:\n",
    "  print(col,df[col].unique())"
   ]
  },
  {
   "cell_type": "code",
   "execution_count": 5,
   "id": "f705d3f7",
   "metadata": {},
   "outputs": [
    {
     "data": {
      "text/html": [
       "<div>\n",
       "<style scoped>\n",
       "    .dataframe tbody tr th:only-of-type {\n",
       "        vertical-align: middle;\n",
       "    }\n",
       "\n",
       "    .dataframe tbody tr th {\n",
       "        vertical-align: top;\n",
       "    }\n",
       "\n",
       "    .dataframe thead th {\n",
       "        text-align: right;\n",
       "    }\n",
       "</style>\n",
       "<table border=\"1\" class=\"dataframe\">\n",
       "  <thead>\n",
       "    <tr style=\"text-align: right;\">\n",
       "      <th></th>\n",
       "      <th>Age</th>\n",
       "      <th>Seller_Urgency</th>\n",
       "      <th>Original_Price</th>\n",
       "      <th>Listings_in_Region</th>\n",
       "      <th>Local_Demand_Score</th>\n",
       "      <th>Fair_Price</th>\n",
       "    </tr>\n",
       "  </thead>\n",
       "  <tbody>\n",
       "    <tr>\n",
       "      <th>count</th>\n",
       "      <td>300.000000</td>\n",
       "      <td>300.000000</td>\n",
       "      <td>300.000000</td>\n",
       "      <td>300.000000</td>\n",
       "      <td>300.000000</td>\n",
       "      <td>300.000000</td>\n",
       "    </tr>\n",
       "    <tr>\n",
       "      <th>mean</th>\n",
       "      <td>4.234000</td>\n",
       "      <td>3.010000</td>\n",
       "      <td>50671.260000</td>\n",
       "      <td>27.203333</td>\n",
       "      <td>5.579333</td>\n",
       "      <td>27950.976667</td>\n",
       "    </tr>\n",
       "    <tr>\n",
       "      <th>std</th>\n",
       "      <td>2.228092</td>\n",
       "      <td>1.408253</td>\n",
       "      <td>28985.694942</td>\n",
       "      <td>12.904926</td>\n",
       "      <td>2.666221</td>\n",
       "      <td>21080.911833</td>\n",
       "    </tr>\n",
       "    <tr>\n",
       "      <th>min</th>\n",
       "      <td>0.500000</td>\n",
       "      <td>1.000000</td>\n",
       "      <td>3077.000000</td>\n",
       "      <td>5.000000</td>\n",
       "      <td>1.000000</td>\n",
       "      <td>1000.000000</td>\n",
       "    </tr>\n",
       "    <tr>\n",
       "      <th>25%</th>\n",
       "      <td>2.200000</td>\n",
       "      <td>2.000000</td>\n",
       "      <td>26431.000000</td>\n",
       "      <td>16.000000</td>\n",
       "      <td>3.275000</td>\n",
       "      <td>10754.750000</td>\n",
       "    </tr>\n",
       "    <tr>\n",
       "      <th>50%</th>\n",
       "      <td>4.400000</td>\n",
       "      <td>3.000000</td>\n",
       "      <td>49927.000000</td>\n",
       "      <td>28.000000</td>\n",
       "      <td>5.850000</td>\n",
       "      <td>23185.500000</td>\n",
       "    </tr>\n",
       "    <tr>\n",
       "      <th>75%</th>\n",
       "      <td>6.100000</td>\n",
       "      <td>4.000000</td>\n",
       "      <td>75395.250000</td>\n",
       "      <td>39.000000</td>\n",
       "      <td>7.800000</td>\n",
       "      <td>41050.250000</td>\n",
       "    </tr>\n",
       "    <tr>\n",
       "      <th>max</th>\n",
       "      <td>8.000000</td>\n",
       "      <td>5.000000</td>\n",
       "      <td>99826.000000</td>\n",
       "      <td>49.000000</td>\n",
       "      <td>10.000000</td>\n",
       "      <td>90760.000000</td>\n",
       "    </tr>\n",
       "  </tbody>\n",
       "</table>\n",
       "</div>"
      ],
      "text/plain": [
       "              Age  Seller_Urgency  Original_Price  Listings_in_Region  \\\n",
       "count  300.000000      300.000000      300.000000          300.000000   \n",
       "mean     4.234000        3.010000    50671.260000           27.203333   \n",
       "std      2.228092        1.408253    28985.694942           12.904926   \n",
       "min      0.500000        1.000000     3077.000000            5.000000   \n",
       "25%      2.200000        2.000000    26431.000000           16.000000   \n",
       "50%      4.400000        3.000000    49927.000000           28.000000   \n",
       "75%      6.100000        4.000000    75395.250000           39.000000   \n",
       "max      8.000000        5.000000    99826.000000           49.000000   \n",
       "\n",
       "       Local_Demand_Score    Fair_Price  \n",
       "count          300.000000    300.000000  \n",
       "mean             5.579333  27950.976667  \n",
       "std              2.666221  21080.911833  \n",
       "min              1.000000   1000.000000  \n",
       "25%              3.275000  10754.750000  \n",
       "50%              5.850000  23185.500000  \n",
       "75%              7.800000  41050.250000  \n",
       "max             10.000000  90760.000000  "
      ]
     },
     "execution_count": 5,
     "metadata": {},
     "output_type": "execute_result"
    }
   ],
   "source": [
    "df.describe()"
   ]
  },
  {
   "cell_type": "code",
   "execution_count": 6,
   "id": "2ceb17ae",
   "metadata": {},
   "outputs": [],
   "source": [
    "x=df.drop(['Fair_Price', 'Negotiable'], axis=1)\n",
    "y_reg=df['Fair_Price']\n",
    "y_cls=df['Negotiable']"
   ]
  },
  {
   "cell_type": "code",
   "execution_count": 7,
   "id": "e5e5b9f5",
   "metadata": {},
   "outputs": [],
   "source": [
    "from sklearn.compose import ColumnTransformer\n",
    "from sklearn.preprocessing import OneHotEncoder, StandardScaler\n",
    "\n",
    "categorical_col=['Product', 'Brand', 'Model', 'Condition', 'Region']\n",
    "numerical_col=['Age', 'Seller_Urgency', 'Original_Price', 'Listings_in_Region', 'Local_Demand_Score']\n",
    "\n",
    "preprocessor=ColumnTransformer(\n",
    "    transformers=[\n",
    "        ('num', StandardScaler(), numerical_col),\n",
    "        ('cat', OneHotEncoder(handle_unknown='ignore'), categorical_col)\n",
    "    ]\n",
    ")"
   ]
  },
  {
   "cell_type": "code",
   "execution_count": 8,
   "id": "8b105ff8",
   "metadata": {},
   "outputs": [],
   "source": [
    "from sklearn.model_selection import train_test_split\n",
    "x_train_reg, x_test_reg, y_train_reg, y_test_reg=train_test_split(x, y_reg, test_size=0.2, random_state=42)\n",
    "x_train_cls, x_test_cls, y_train_cls, y_test_cls=train_test_split(x, y_cls, test_size=0.2, random_state=42)"
   ]
  },
  {
   "cell_type": "code",
   "execution_count": 21,
   "id": "fb6befe6",
   "metadata": {},
   "outputs": [],
   "source": [
    "#pipeline\n",
    "#%pip install xgboost\n",
    "from sklearn.pipeline import Pipeline\n",
    "from xgboost import XGBRegressor, XGBClassifier\n",
    "\n",
    "regressor = Pipeline([\n",
    "    ('preprocessor', preprocessor),\n",
    "    ('regressor', XGBRegressor(n_estimators=300, max_depth=5, learning_rate=0.1, random_state=42))\n",
    "])\n",
    "classifier = Pipeline([\n",
    "    ('preprocessor', preprocessor),\n",
    "    ('classifier', XGBClassifier(n_estimators=100, random_state=42))\n",
    "])"
   ]
  },
  {
   "cell_type": "code",
   "execution_count": 23,
   "id": "2cbd56e5",
   "metadata": {},
   "outputs": [],
   "source": [
    "from sklearn.preprocessing import LabelEncoder\n",
    "\n",
    "# Encode target labels for classification\n",
    "le = LabelEncoder()\n",
    "y_train_cls_enc = le.fit_transform(y_train_cls)\n",
    "y_test_cls_enc = le.transform(y_test_cls)\n",
    "\n",
    "regressor.fit(x_train_reg, y_train_reg)\n",
    "y_pred = regressor.predict(x_test_reg)\n",
    "\n",
    "classifier.fit(x_train_cls, y_train_cls_enc)\n",
    "y_pred_cls_enc = classifier.predict(x_test_cls)\n",
    "y_pred_cls = le.inverse_transform(y_pred_cls_enc)"
   ]
  },
  {
   "cell_type": "code",
   "execution_count": 25,
   "id": "ca3b8a4f",
   "metadata": {},
   "outputs": [
    {
     "name": "stdout",
     "output_type": "stream",
     "text": [
      "Mean Squared Error: 6294272.5\n",
      "Mean Absolute Error: 1831.1314697265625\n",
      "R-squared: 0.9806357026100159\n"
     ]
    }
   ],
   "source": [
    "from sklearn.metrics import mean_squared_error,mean_absolute_error,r2_score\n",
    "mse=mean_squared_error(y_test_reg, y_pred)\n",
    "mae=mean_absolute_error(y_test_reg, y_pred)\n",
    "r2=r2_score(y_test_reg, y_pred)\n",
    "print(f'Mean Squared Error: {mse}')\n",
    "print(f'Mean Absolute Error: {mae}')\n",
    "print(f'R-squared: {r2}')"
   ]
  },
  {
   "cell_type": "code",
   "execution_count": 27,
   "id": "36e1ba96",
   "metadata": {},
   "outputs": [
    {
     "name": "stdout",
     "output_type": "stream",
     "text": [
      "Accuracy: 1.0\n",
      "Precision: 1.0\n",
      "Recall: 1.0\n",
      "F1 Score: 1.0\n"
     ]
    }
   ],
   "source": [
    "from sklearn.metrics import accuracy_score, precision_score, recall_score, f1_score\n",
    "accuracy=accuracy_score(y_test_cls, y_pred_cls)\n",
    "precision=precision_score(y_test_cls, y_pred_cls,pos_label='Yes')\n",
    "recall=recall_score(y_test_cls, y_pred_cls,pos_label='Yes')\n",
    "f1=f1_score(y_test_cls, y_pred_cls,pos_label='Yes')\n",
    "print(f'Accuracy: {accuracy}')\n",
    "print(f'Precision: {precision}')\n",
    "print(f'Recall: {recall}')\n",
    "print(f'F1 Score: {f1}')"
   ]
  },
  {
   "cell_type": "code",
   "execution_count": 28,
   "id": "4c0c682a",
   "metadata": {},
   "outputs": [
    {
     "data": {
      "text/plain": [
       "['smart_price_classifier.pkl']"
      ]
     },
     "execution_count": 28,
     "metadata": {},
     "output_type": "execute_result"
    }
   ],
   "source": [
    "import joblib\n",
    "joblib.dump(regressor, 'smart_price_regressor.pkl')\n",
    "joblib.dump(classifier, 'smart_price_classifier.pkl')"
   ]
  },
  {
   "cell_type": "code",
   "execution_count": 29,
   "id": "df45e0ce",
   "metadata": {},
   "outputs": [
    {
     "name": "stdout",
     "output_type": "stream",
     "text": [
      "\n",
      "🔍 Sample Test Case (Row 0):\n",
      "Regressor prediction (Fair Price): 53875.977\n",
      "Classifier prediction (Negotiable): 1\n"
     ]
    }
   ],
   "source": [
    "# Select a sample row from x for prediction\n",
    "sample_row = x.iloc[[0]]  # You can change index to test other entries\n",
    "\n",
    "# Reload models\n",
    "reg_model = joblib.load('smart_price_regressor.pkl')\n",
    "cls_model = joblib.load('smart_price_classifier.pkl')\n",
    "\n",
    "print(\"\\n🔍 Sample Test Case (Row 0):\")\n",
    "print(\"Regressor prediction (Fair Price):\", reg_model.predict(sample_row)[0])\n",
    "print(\"Classifier prediction (Negotiable):\", cls_model.predict(sample_row)[0])\n"
   ]
  }
 ],
 "metadata": {
  "kernelspec": {
   "display_name": ".venv",
   "language": "python",
   "name": "python3"
  },
  "language_info": {
   "codemirror_mode": {
    "name": "ipython",
    "version": 3
   },
   "file_extension": ".py",
   "mimetype": "text/x-python",
   "name": "python",
   "nbconvert_exporter": "python",
   "pygments_lexer": "ipython3",
   "version": "3.12.4"
  }
 },
 "nbformat": 4,
 "nbformat_minor": 5
}
